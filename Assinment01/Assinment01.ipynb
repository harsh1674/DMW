{
  "metadata": {
    "language_info": {
      "codemirror_mode": {
        "name": "python",
        "version": 3
      },
      "file_extension": ".py",
      "mimetype": "text/x-python",
      "name": "python",
      "nbconvert_exporter": "python",
      "pygments_lexer": "ipython3",
      "version": "3.8"
    },
    "kernelspec": {
      "name": "python",
      "display_name": "Python (Pyodide)",
      "language": "python"
    }
  },
  "nbformat_minor": 4,
  "nbformat": 4,
  "cells": [
    {
      "cell_type": "code",
      "source": "import pandas as pd\nimport numpy as np\nimport matplotlib.pyplot as plt",
      "metadata": {
        "trusted": true
      },
      "execution_count": 1,
      "outputs": []
    },
    {
      "cell_type": "code",
      "source": "df=pd.read_csv('data.csv')",
      "metadata": {
        "trusted": true
      },
      "execution_count": 2,
      "outputs": []
    },
    {
      "cell_type": "code",
      "source": "print(df)",
      "metadata": {
        "trusted": true
      },
      "execution_count": 3,
      "outputs": [
        {
          "name": "stdout",
          "text": "                        hlpi_name  year   hlpi  tot_hhs      own  own_wm  \\\n0                  All households  2008  allhh  1560859  1087580  574406   \n1                     Beneficiary  2008  benef   185965    71256   39405   \n2         Income quintile 1 (low)  2008  disq1   312376   191470   48424   \n3               Income quintile 2  2008  disq2   312333   196203   84171   \n4               Income quintile 3  2008  disq3   312240   217657  141318   \n..                            ...   ...    ...      ...      ...     ...   \n65         Expenditure quintile 3  2020  expq3   352564   213893  119637   \n66         Expenditure quintile 4  2020  expq4   350182   235256  141104   \n67  Expenditure quintile 5 (high)  2020  expq5   351328   288779  187838   \n68                          Māori  2020  maori   329588   156459  107753   \n69                 Superannuitant  2020  super   388013   314154   38270   \n\n    own_prop  own_wm_prop  prop_hhs   age  size  income  expenditure  \\\n0       69.7         36.8     100.0  35.9   2.7   46704        42394   \n1       38.3         21.2      11.9  29.9   2.6   23404        25270   \n2       61.3         15.5      20.0  40.0   2.3   16747        21145   \n3       62.8         26.9      20.0  34.7   2.8   31308        29855   \n4       69.7         45.3      20.0  31.5   3.0   49106        46561   \n..       ...          ...       ...   ...   ...     ...          ...   \n65      60.7         33.9      20.1  36.9   2.8   69779        57351   \n66      67.2         40.3      19.9  35.0   3.0   88944        83038   \n67      82.2         53.5      20.0  39.6   2.6  104277       123424   \n68      47.5         32.7      18.8  31.1   3.2   69581        54141   \n69      81.0          9.9      22.1  69.8   1.7   34712        34643   \n\n    eqv_income  eqv_exp  \n0        26869    25132  \n1        14258    15824  \n2        13402    14408  \n3        18917    18266  \n4        26870    24672  \n..         ...      ...  \n65       38889    33468  \n66       48929    45978  \n67       62718    71985  \n68       35075    29684  \n69       25077    27037  \n\n[70 rows x 15 columns]\n",
          "output_type": "stream"
        }
      ]
    },
    {
      "cell_type": "code",
      "source": "df.describe()\n",
      "metadata": {
        "trusted": true
      },
      "execution_count": 4,
      "outputs": [
        {
          "execution_count": 4,
          "output_type": "execute_result",
          "data": {
            "text/plain": "              year       tot_hhs           own         own_wm   own_prop  \\\ncount    70.000000  7.000000e+01  7.000000e+01      70.000000  70.000000   \nmean   2014.000000  4.125193e+05  2.689711e+05  129639.457143  63.505714   \nstd       4.273274  3.491547e+05  2.385230e+05  128627.124758  15.145257   \nmin    2008.000000  1.322150e+05  3.008000e+04   14220.000000  22.800000   \n25%    2011.000000  3.123460e+05  1.838408e+05   50636.750000  55.400000   \n50%    2014.000000  3.276340e+05  2.153065e+05  107909.000000  64.200000   \n75%    2017.000000  3.468958e+05  2.604148e+05  147563.000000  73.675000   \nmax    2020.000000  1.756740e+06  1.125000e+06  574662.000000  88.100000   \n\n       own_wm_prop    prop_hhs        age       size         income  \\\ncount    70.000000   70.000000  70.000000  70.000000      70.000000   \nmean     30.348571   24.985714  38.284286   2.625714   56694.785714   \nstd      14.010004   21.102368   9.376345   0.350439   28921.315551   \nmin       5.100000    7.800000  27.300000   1.600000   16747.000000   \n25%      15.850000   20.000000  34.850000   2.500000   33299.000000   \n50%      32.650000   20.000000  36.600000   2.700000   52429.500000   \n75%      42.050000   20.000000  38.650000   2.800000   69481.500000   \nmax      58.200000  100.000000  70.300000   3.200000  146672.000000   \n\n         expenditure    eqv_income       eqv_exp  \ncount      70.000000     70.000000     70.000000  \nmean    49267.128571  33451.500000  29510.471429  \nstd     24008.560485  16004.914882  13307.606051  \nmin     16413.000000  13402.000000  11015.000000  \n25%     29904.750000  21499.500000  19884.500000  \n50%     44887.000000  28454.500000  25763.500000  \n75%     58777.500000  38823.000000  33992.250000  \nmax    123424.000000  79607.000000  71985.000000  ",
            "text/html": "<div>\n<style scoped>\n    .dataframe tbody tr th:only-of-type {\n        vertical-align: middle;\n    }\n\n    .dataframe tbody tr th {\n        vertical-align: top;\n    }\n\n    .dataframe thead th {\n        text-align: right;\n    }\n</style>\n<table border=\"1\" class=\"dataframe\">\n  <thead>\n    <tr style=\"text-align: right;\">\n      <th></th>\n      <th>year</th>\n      <th>tot_hhs</th>\n      <th>own</th>\n      <th>own_wm</th>\n      <th>own_prop</th>\n      <th>own_wm_prop</th>\n      <th>prop_hhs</th>\n      <th>age</th>\n      <th>size</th>\n      <th>income</th>\n      <th>expenditure</th>\n      <th>eqv_income</th>\n      <th>eqv_exp</th>\n    </tr>\n  </thead>\n  <tbody>\n    <tr>\n      <th>count</th>\n      <td>70.000000</td>\n      <td>7.000000e+01</td>\n      <td>7.000000e+01</td>\n      <td>70.000000</td>\n      <td>70.000000</td>\n      <td>70.000000</td>\n      <td>70.000000</td>\n      <td>70.000000</td>\n      <td>70.000000</td>\n      <td>70.000000</td>\n      <td>70.000000</td>\n      <td>70.000000</td>\n      <td>70.000000</td>\n    </tr>\n    <tr>\n      <th>mean</th>\n      <td>2014.000000</td>\n      <td>4.125193e+05</td>\n      <td>2.689711e+05</td>\n      <td>129639.457143</td>\n      <td>63.505714</td>\n      <td>30.348571</td>\n      <td>24.985714</td>\n      <td>38.284286</td>\n      <td>2.625714</td>\n      <td>56694.785714</td>\n      <td>49267.128571</td>\n      <td>33451.500000</td>\n      <td>29510.471429</td>\n    </tr>\n    <tr>\n      <th>std</th>\n      <td>4.273274</td>\n      <td>3.491547e+05</td>\n      <td>2.385230e+05</td>\n      <td>128627.124758</td>\n      <td>15.145257</td>\n      <td>14.010004</td>\n      <td>21.102368</td>\n      <td>9.376345</td>\n      <td>0.350439</td>\n      <td>28921.315551</td>\n      <td>24008.560485</td>\n      <td>16004.914882</td>\n      <td>13307.606051</td>\n    </tr>\n    <tr>\n      <th>min</th>\n      <td>2008.000000</td>\n      <td>1.322150e+05</td>\n      <td>3.008000e+04</td>\n      <td>14220.000000</td>\n      <td>22.800000</td>\n      <td>5.100000</td>\n      <td>7.800000</td>\n      <td>27.300000</td>\n      <td>1.600000</td>\n      <td>16747.000000</td>\n      <td>16413.000000</td>\n      <td>13402.000000</td>\n      <td>11015.000000</td>\n    </tr>\n    <tr>\n      <th>25%</th>\n      <td>2011.000000</td>\n      <td>3.123460e+05</td>\n      <td>1.838408e+05</td>\n      <td>50636.750000</td>\n      <td>55.400000</td>\n      <td>15.850000</td>\n      <td>20.000000</td>\n      <td>34.850000</td>\n      <td>2.500000</td>\n      <td>33299.000000</td>\n      <td>29904.750000</td>\n      <td>21499.500000</td>\n      <td>19884.500000</td>\n    </tr>\n    <tr>\n      <th>50%</th>\n      <td>2014.000000</td>\n      <td>3.276340e+05</td>\n      <td>2.153065e+05</td>\n      <td>107909.000000</td>\n      <td>64.200000</td>\n      <td>32.650000</td>\n      <td>20.000000</td>\n      <td>36.600000</td>\n      <td>2.700000</td>\n      <td>52429.500000</td>\n      <td>44887.000000</td>\n      <td>28454.500000</td>\n      <td>25763.500000</td>\n    </tr>\n    <tr>\n      <th>75%</th>\n      <td>2017.000000</td>\n      <td>3.468958e+05</td>\n      <td>2.604148e+05</td>\n      <td>147563.000000</td>\n      <td>73.675000</td>\n      <td>42.050000</td>\n      <td>20.000000</td>\n      <td>38.650000</td>\n      <td>2.800000</td>\n      <td>69481.500000</td>\n      <td>58777.500000</td>\n      <td>38823.000000</td>\n      <td>33992.250000</td>\n    </tr>\n    <tr>\n      <th>max</th>\n      <td>2020.000000</td>\n      <td>1.756740e+06</td>\n      <td>1.125000e+06</td>\n      <td>574662.000000</td>\n      <td>88.100000</td>\n      <td>58.200000</td>\n      <td>100.000000</td>\n      <td>70.300000</td>\n      <td>3.200000</td>\n      <td>146672.000000</td>\n      <td>123424.000000</td>\n      <td>79607.000000</td>\n      <td>71985.000000</td>\n    </tr>\n  </tbody>\n</table>\n</div>"
          },
          "metadata": {}
        }
      ]
    },
    {
      "cell_type": "code",
      "source": "df.info()",
      "metadata": {
        "trusted": true
      },
      "execution_count": 5,
      "outputs": [
        {
          "name": "stdout",
          "text": "<class 'pandas.core.frame.DataFrame'>\nRangeIndex: 70 entries, 0 to 69\nData columns (total 15 columns):\n #   Column       Non-Null Count  Dtype  \n---  ------       --------------  -----  \n 0   hlpi_name    70 non-null     object \n 1   year         70 non-null     int64  \n 2   hlpi         70 non-null     object \n 3   tot_hhs      70 non-null     int64  \n 4   own          70 non-null     int64  \n 5   own_wm       70 non-null     int64  \n 6   own_prop     70 non-null     float64\n 7   own_wm_prop  70 non-null     float64\n 8   prop_hhs     70 non-null     float64\n 9   age          70 non-null     float64\n 10  size         70 non-null     float64\n 11  income       70 non-null     int64  \n 12  expenditure  70 non-null     int64  \n 13  eqv_income   70 non-null     int64  \n 14  eqv_exp      70 non-null     int64  \ndtypes: float64(5), int64(8), object(2)\nmemory usage: 7.7+ KB\n",
          "output_type": "stream"
        }
      ]
    },
    {
      "cell_type": "code",
      "source": "#displays first five rows of the dataset\ndf.head()",
      "metadata": {
        "trusted": true
      },
      "execution_count": 6,
      "outputs": [
        {
          "execution_count": 6,
          "output_type": "execute_result",
          "data": {
            "text/plain": "                 hlpi_name  year   hlpi  tot_hhs      own  own_wm  own_prop  \\\n0           All households  2008  allhh  1560859  1087580  574406      69.7   \n1              Beneficiary  2008  benef   185965    71256   39405      38.3   \n2  Income quintile 1 (low)  2008  disq1   312376   191470   48424      61.3   \n3        Income quintile 2  2008  disq2   312333   196203   84171      62.8   \n4        Income quintile 3  2008  disq3   312240   217657  141318      69.7   \n\n   own_wm_prop  prop_hhs   age  size  income  expenditure  eqv_income  eqv_exp  \n0         36.8     100.0  35.9   2.7   46704        42394       26869    25132  \n1         21.2      11.9  29.9   2.6   23404        25270       14258    15824  \n2         15.5      20.0  40.0   2.3   16747        21145       13402    14408  \n3         26.9      20.0  34.7   2.8   31308        29855       18917    18266  \n4         45.3      20.0  31.5   3.0   49106        46561       26870    24672  ",
            "text/html": "<div>\n<style scoped>\n    .dataframe tbody tr th:only-of-type {\n        vertical-align: middle;\n    }\n\n    .dataframe tbody tr th {\n        vertical-align: top;\n    }\n\n    .dataframe thead th {\n        text-align: right;\n    }\n</style>\n<table border=\"1\" class=\"dataframe\">\n  <thead>\n    <tr style=\"text-align: right;\">\n      <th></th>\n      <th>hlpi_name</th>\n      <th>year</th>\n      <th>hlpi</th>\n      <th>tot_hhs</th>\n      <th>own</th>\n      <th>own_wm</th>\n      <th>own_prop</th>\n      <th>own_wm_prop</th>\n      <th>prop_hhs</th>\n      <th>age</th>\n      <th>size</th>\n      <th>income</th>\n      <th>expenditure</th>\n      <th>eqv_income</th>\n      <th>eqv_exp</th>\n    </tr>\n  </thead>\n  <tbody>\n    <tr>\n      <th>0</th>\n      <td>All households</td>\n      <td>2008</td>\n      <td>allhh</td>\n      <td>1560859</td>\n      <td>1087580</td>\n      <td>574406</td>\n      <td>69.7</td>\n      <td>36.8</td>\n      <td>100.0</td>\n      <td>35.9</td>\n      <td>2.7</td>\n      <td>46704</td>\n      <td>42394</td>\n      <td>26869</td>\n      <td>25132</td>\n    </tr>\n    <tr>\n      <th>1</th>\n      <td>Beneficiary</td>\n      <td>2008</td>\n      <td>benef</td>\n      <td>185965</td>\n      <td>71256</td>\n      <td>39405</td>\n      <td>38.3</td>\n      <td>21.2</td>\n      <td>11.9</td>\n      <td>29.9</td>\n      <td>2.6</td>\n      <td>23404</td>\n      <td>25270</td>\n      <td>14258</td>\n      <td>15824</td>\n    </tr>\n    <tr>\n      <th>2</th>\n      <td>Income quintile 1 (low)</td>\n      <td>2008</td>\n      <td>disq1</td>\n      <td>312376</td>\n      <td>191470</td>\n      <td>48424</td>\n      <td>61.3</td>\n      <td>15.5</td>\n      <td>20.0</td>\n      <td>40.0</td>\n      <td>2.3</td>\n      <td>16747</td>\n      <td>21145</td>\n      <td>13402</td>\n      <td>14408</td>\n    </tr>\n    <tr>\n      <th>3</th>\n      <td>Income quintile 2</td>\n      <td>2008</td>\n      <td>disq2</td>\n      <td>312333</td>\n      <td>196203</td>\n      <td>84171</td>\n      <td>62.8</td>\n      <td>26.9</td>\n      <td>20.0</td>\n      <td>34.7</td>\n      <td>2.8</td>\n      <td>31308</td>\n      <td>29855</td>\n      <td>18917</td>\n      <td>18266</td>\n    </tr>\n    <tr>\n      <th>4</th>\n      <td>Income quintile 3</td>\n      <td>2008</td>\n      <td>disq3</td>\n      <td>312240</td>\n      <td>217657</td>\n      <td>141318</td>\n      <td>69.7</td>\n      <td>45.3</td>\n      <td>20.0</td>\n      <td>31.5</td>\n      <td>3.0</td>\n      <td>49106</td>\n      <td>46561</td>\n      <td>26870</td>\n      <td>24672</td>\n    </tr>\n  </tbody>\n</table>\n</div>"
          },
          "metadata": {}
        }
      ]
    },
    {
      "cell_type": "code",
      "source": "#cleaning\ndf.isnull().sum()\n",
      "metadata": {
        "trusted": true
      },
      "execution_count": 7,
      "outputs": [
        {
          "execution_count": 7,
          "output_type": "execute_result",
          "data": {
            "text/plain": "hlpi_name      0\nyear           0\nhlpi           0\ntot_hhs        0\nown            0\nown_wm         0\nown_prop       0\nown_wm_prop    0\nprop_hhs       0\nage            0\nsize           0\nincome         0\nexpenditure    0\neqv_income     0\neqv_exp        0\ndtype: int64"
          },
          "metadata": {}
        }
      ]
    },
    {
      "cell_type": "code",
      "source": "#to replace missing values\ndata1=df.fillna(method=\"ffill\")",
      "metadata": {
        "trusted": true
      },
      "execution_count": 8,
      "outputs": []
    },
    {
      "cell_type": "code",
      "source": "#To check whether the valuies are replaced\ndata1.isnull().sum()",
      "metadata": {
        "trusted": true
      },
      "execution_count": 9,
      "outputs": [
        {
          "execution_count": 9,
          "output_type": "execute_result",
          "data": {
            "text/plain": "hlpi_name      0\nyear           0\nhlpi           0\ntot_hhs        0\nown            0\nown_wm         0\nown_prop       0\nown_wm_prop    0\nprop_hhs       0\nage            0\nsize           0\nincome         0\nexpenditure    0\neqv_income     0\neqv_exp        0\ndtype: int64"
          },
          "metadata": {}
        }
      ]
    },
    {
      "cell_type": "code",
      "source": "df.head()",
      "metadata": {
        "trusted": true
      },
      "execution_count": 10,
      "outputs": [
        {
          "execution_count": 10,
          "output_type": "execute_result",
          "data": {
            "text/plain": "                 hlpi_name  year   hlpi  tot_hhs      own  own_wm  own_prop  \\\n0           All households  2008  allhh  1560859  1087580  574406      69.7   \n1              Beneficiary  2008  benef   185965    71256   39405      38.3   \n2  Income quintile 1 (low)  2008  disq1   312376   191470   48424      61.3   \n3        Income quintile 2  2008  disq2   312333   196203   84171      62.8   \n4        Income quintile 3  2008  disq3   312240   217657  141318      69.7   \n\n   own_wm_prop  prop_hhs   age  size  income  expenditure  eqv_income  eqv_exp  \n0         36.8     100.0  35.9   2.7   46704        42394       26869    25132  \n1         21.2      11.9  29.9   2.6   23404        25270       14258    15824  \n2         15.5      20.0  40.0   2.3   16747        21145       13402    14408  \n3         26.9      20.0  34.7   2.8   31308        29855       18917    18266  \n4         45.3      20.0  31.5   3.0   49106        46561       26870    24672  ",
            "text/html": "<div>\n<style scoped>\n    .dataframe tbody tr th:only-of-type {\n        vertical-align: middle;\n    }\n\n    .dataframe tbody tr th {\n        vertical-align: top;\n    }\n\n    .dataframe thead th {\n        text-align: right;\n    }\n</style>\n<table border=\"1\" class=\"dataframe\">\n  <thead>\n    <tr style=\"text-align: right;\">\n      <th></th>\n      <th>hlpi_name</th>\n      <th>year</th>\n      <th>hlpi</th>\n      <th>tot_hhs</th>\n      <th>own</th>\n      <th>own_wm</th>\n      <th>own_prop</th>\n      <th>own_wm_prop</th>\n      <th>prop_hhs</th>\n      <th>age</th>\n      <th>size</th>\n      <th>income</th>\n      <th>expenditure</th>\n      <th>eqv_income</th>\n      <th>eqv_exp</th>\n    </tr>\n  </thead>\n  <tbody>\n    <tr>\n      <th>0</th>\n      <td>All households</td>\n      <td>2008</td>\n      <td>allhh</td>\n      <td>1560859</td>\n      <td>1087580</td>\n      <td>574406</td>\n      <td>69.7</td>\n      <td>36.8</td>\n      <td>100.0</td>\n      <td>35.9</td>\n      <td>2.7</td>\n      <td>46704</td>\n      <td>42394</td>\n      <td>26869</td>\n      <td>25132</td>\n    </tr>\n    <tr>\n      <th>1</th>\n      <td>Beneficiary</td>\n      <td>2008</td>\n      <td>benef</td>\n      <td>185965</td>\n      <td>71256</td>\n      <td>39405</td>\n      <td>38.3</td>\n      <td>21.2</td>\n      <td>11.9</td>\n      <td>29.9</td>\n      <td>2.6</td>\n      <td>23404</td>\n      <td>25270</td>\n      <td>14258</td>\n      <td>15824</td>\n    </tr>\n    <tr>\n      <th>2</th>\n      <td>Income quintile 1 (low)</td>\n      <td>2008</td>\n      <td>disq1</td>\n      <td>312376</td>\n      <td>191470</td>\n      <td>48424</td>\n      <td>61.3</td>\n      <td>15.5</td>\n      <td>20.0</td>\n      <td>40.0</td>\n      <td>2.3</td>\n      <td>16747</td>\n      <td>21145</td>\n      <td>13402</td>\n      <td>14408</td>\n    </tr>\n    <tr>\n      <th>3</th>\n      <td>Income quintile 2</td>\n      <td>2008</td>\n      <td>disq2</td>\n      <td>312333</td>\n      <td>196203</td>\n      <td>84171</td>\n      <td>62.8</td>\n      <td>26.9</td>\n      <td>20.0</td>\n      <td>34.7</td>\n      <td>2.8</td>\n      <td>31308</td>\n      <td>29855</td>\n      <td>18917</td>\n      <td>18266</td>\n    </tr>\n    <tr>\n      <th>4</th>\n      <td>Income quintile 3</td>\n      <td>2008</td>\n      <td>disq3</td>\n      <td>312240</td>\n      <td>217657</td>\n      <td>141318</td>\n      <td>69.7</td>\n      <td>45.3</td>\n      <td>20.0</td>\n      <td>31.5</td>\n      <td>3.0</td>\n      <td>49106</td>\n      <td>46561</td>\n      <td>26870</td>\n      <td>24672</td>\n    </tr>\n  </tbody>\n</table>\n</div>"
          },
          "metadata": {}
        }
      ]
    },
    {
      "cell_type": "code",
      "source": "#reduction\n\ncols=['own','year']\ndf = df.drop(cols, axis=1)\n",
      "metadata": {
        "trusted": true
      },
      "execution_count": 11,
      "outputs": []
    },
    {
      "cell_type": "code",
      "source": "print(df)",
      "metadata": {
        "trusted": true
      },
      "execution_count": 12,
      "outputs": [
        {
          "name": "stdout",
          "text": "                        hlpi_name   hlpi  tot_hhs  own_wm  own_prop  \\\n0                  All households  allhh  1560859  574406      69.7   \n1                     Beneficiary  benef   185965   39405      38.3   \n2         Income quintile 1 (low)  disq1   312376   48424      61.3   \n3               Income quintile 2  disq2   312333   84171      62.8   \n4               Income quintile 3  disq3   312240  141318      69.7   \n..                            ...    ...      ...     ...       ...   \n65         Expenditure quintile 3  expq3   352564  119637      60.7   \n66         Expenditure quintile 4  expq4   350182  141104      67.2   \n67  Expenditure quintile 5 (high)  expq5   351328  187838      82.2   \n68                          Māori  maori   329588  107753      47.5   \n69                 Superannuitant  super   388013   38270      81.0   \n\n    own_wm_prop  prop_hhs   age  size  income  expenditure  eqv_income  \\\n0          36.8     100.0  35.9   2.7   46704        42394       26869   \n1          21.2      11.9  29.9   2.6   23404        25270       14258   \n2          15.5      20.0  40.0   2.3   16747        21145       13402   \n3          26.9      20.0  34.7   2.8   31308        29855       18917   \n4          45.3      20.0  31.5   3.0   49106        46561       26870   \n..          ...       ...   ...   ...     ...          ...         ...   \n65         33.9      20.1  36.9   2.8   69779        57351       38889   \n66         40.3      19.9  35.0   3.0   88944        83038       48929   \n67         53.5      20.0  39.6   2.6  104277       123424       62718   \n68         32.7      18.8  31.1   3.2   69581        54141       35075   \n69          9.9      22.1  69.8   1.7   34712        34643       25077   \n\n    eqv_exp  \n0     25132  \n1     15824  \n2     14408  \n3     18266  \n4     24672  \n..      ...  \n65    33468  \n66    45978  \n67    71985  \n68    29684  \n69    27037  \n\n[70 rows x 13 columns]\n",
          "output_type": "stream"
        }
      ]
    },
    {
      "cell_type": "code",
      "source": "#Transformation\n\ndata1.head()",
      "metadata": {
        "trusted": true
      },
      "execution_count": 13,
      "outputs": [
        {
          "execution_count": 13,
          "output_type": "execute_result",
          "data": {
            "text/plain": "                 hlpi_name  year   hlpi  tot_hhs      own  own_wm  own_prop  \\\n0           All households  2008  allhh  1560859  1087580  574406      69.7   \n1              Beneficiary  2008  benef   185965    71256   39405      38.3   \n2  Income quintile 1 (low)  2008  disq1   312376   191470   48424      61.3   \n3        Income quintile 2  2008  disq2   312333   196203   84171      62.8   \n4        Income quintile 3  2008  disq3   312240   217657  141318      69.7   \n\n   own_wm_prop  prop_hhs   age  size  income  expenditure  eqv_income  eqv_exp  \n0         36.8     100.0  35.9   2.7   46704        42394       26869    25132  \n1         21.2      11.9  29.9   2.6   23404        25270       14258    15824  \n2         15.5      20.0  40.0   2.3   16747        21145       13402    14408  \n3         26.9      20.0  34.7   2.8   31308        29855       18917    18266  \n4         45.3      20.0  31.5   3.0   49106        46561       26870    24672  ",
            "text/html": "<div>\n<style scoped>\n    .dataframe tbody tr th:only-of-type {\n        vertical-align: middle;\n    }\n\n    .dataframe tbody tr th {\n        vertical-align: top;\n    }\n\n    .dataframe thead th {\n        text-align: right;\n    }\n</style>\n<table border=\"1\" class=\"dataframe\">\n  <thead>\n    <tr style=\"text-align: right;\">\n      <th></th>\n      <th>hlpi_name</th>\n      <th>year</th>\n      <th>hlpi</th>\n      <th>tot_hhs</th>\n      <th>own</th>\n      <th>own_wm</th>\n      <th>own_prop</th>\n      <th>own_wm_prop</th>\n      <th>prop_hhs</th>\n      <th>age</th>\n      <th>size</th>\n      <th>income</th>\n      <th>expenditure</th>\n      <th>eqv_income</th>\n      <th>eqv_exp</th>\n    </tr>\n  </thead>\n  <tbody>\n    <tr>\n      <th>0</th>\n      <td>All households</td>\n      <td>2008</td>\n      <td>allhh</td>\n      <td>1560859</td>\n      <td>1087580</td>\n      <td>574406</td>\n      <td>69.7</td>\n      <td>36.8</td>\n      <td>100.0</td>\n      <td>35.9</td>\n      <td>2.7</td>\n      <td>46704</td>\n      <td>42394</td>\n      <td>26869</td>\n      <td>25132</td>\n    </tr>\n    <tr>\n      <th>1</th>\n      <td>Beneficiary</td>\n      <td>2008</td>\n      <td>benef</td>\n      <td>185965</td>\n      <td>71256</td>\n      <td>39405</td>\n      <td>38.3</td>\n      <td>21.2</td>\n      <td>11.9</td>\n      <td>29.9</td>\n      <td>2.6</td>\n      <td>23404</td>\n      <td>25270</td>\n      <td>14258</td>\n      <td>15824</td>\n    </tr>\n    <tr>\n      <th>2</th>\n      <td>Income quintile 1 (low)</td>\n      <td>2008</td>\n      <td>disq1</td>\n      <td>312376</td>\n      <td>191470</td>\n      <td>48424</td>\n      <td>61.3</td>\n      <td>15.5</td>\n      <td>20.0</td>\n      <td>40.0</td>\n      <td>2.3</td>\n      <td>16747</td>\n      <td>21145</td>\n      <td>13402</td>\n      <td>14408</td>\n    </tr>\n    <tr>\n      <th>3</th>\n      <td>Income quintile 2</td>\n      <td>2008</td>\n      <td>disq2</td>\n      <td>312333</td>\n      <td>196203</td>\n      <td>84171</td>\n      <td>62.8</td>\n      <td>26.9</td>\n      <td>20.0</td>\n      <td>34.7</td>\n      <td>2.8</td>\n      <td>31308</td>\n      <td>29855</td>\n      <td>18917</td>\n      <td>18266</td>\n    </tr>\n    <tr>\n      <th>4</th>\n      <td>Income quintile 3</td>\n      <td>2008</td>\n      <td>disq3</td>\n      <td>312240</td>\n      <td>217657</td>\n      <td>141318</td>\n      <td>69.7</td>\n      <td>45.3</td>\n      <td>20.0</td>\n      <td>31.5</td>\n      <td>3.0</td>\n      <td>49106</td>\n      <td>46561</td>\n      <td>26870</td>\n      <td>24672</td>\n    </tr>\n  </tbody>\n</table>\n</div>"
          },
          "metadata": {}
        }
      ]
    },
    {
      "cell_type": "code",
      "source": "dummy=pd.get_dummies(data1['own'])",
      "metadata": {
        "trusted": true
      },
      "execution_count": 14,
      "outputs": []
    },
    {
      "cell_type": "code",
      "source": "dummy",
      "metadata": {
        "trusted": true
      },
      "execution_count": 15,
      "outputs": [
        {
          "execution_count": 15,
          "output_type": "execute_result",
          "data": {
            "text/plain": "    30080    45834    55723    56665    71256    115312   119963   127885   \\\n0         0        0        0        0        0        0        0        0   \n1         0        0        0        0        1        0        0        0   \n2         0        0        0        0        0        0        0        0   \n3         0        0        0        0        0        0        0        0   \n4         0        0        0        0        0        0        0        0   \n..      ...      ...      ...      ...      ...      ...      ...      ...   \n65        0        0        0        0        0        0        0        0   \n66        0        0        0        0        0        0        0        0   \n67        0        0        0        0        0        0        0        0   \n68        0        0        0        0        0        0        0        0   \n69        0        0        0        0        0        0        0        0   \n\n    146979   156459   ...  286886   288779   314154   315121   329269   \\\n0         0        0  ...        0        0        0        0        0   \n1         0        0  ...        0        0        0        0        0   \n2         0        0  ...        0        0        0        0        0   \n3         0        0  ...        0        0        0        0        0   \n4         0        0  ...        0        0        0        0        0   \n..      ...      ...  ...      ...      ...      ...      ...      ...   \n65        0        0  ...        0        0        0        0        0   \n66        0        0  ...        0        0        0        0        0   \n67        0        0  ...        0        1        0        0        0   \n68        0        1  ...        0        0        0        0        0   \n69        0        0  ...        0        0        1        0        0   \n\n    1048164  1087580  1090671  1118600  1125000  \n0         0        1        0        0        0  \n1         0        0        0        0        0  \n2         0        0        0        0        0  \n3         0        0        0        0        0  \n4         0        0        0        0        0  \n..      ...      ...      ...      ...      ...  \n65        0        0        0        0        0  \n66        0        0        0        0        0  \n67        0        0        0        0        0  \n68        0        0        0        0        0  \n69        0        0        0        0        0  \n\n[70 rows x 70 columns]",
            "text/html": "<div>\n<style scoped>\n    .dataframe tbody tr th:only-of-type {\n        vertical-align: middle;\n    }\n\n    .dataframe tbody tr th {\n        vertical-align: top;\n    }\n\n    .dataframe thead th {\n        text-align: right;\n    }\n</style>\n<table border=\"1\" class=\"dataframe\">\n  <thead>\n    <tr style=\"text-align: right;\">\n      <th></th>\n      <th>30080</th>\n      <th>45834</th>\n      <th>55723</th>\n      <th>56665</th>\n      <th>71256</th>\n      <th>115312</th>\n      <th>119963</th>\n      <th>127885</th>\n      <th>146979</th>\n      <th>156459</th>\n      <th>...</th>\n      <th>286886</th>\n      <th>288779</th>\n      <th>314154</th>\n      <th>315121</th>\n      <th>329269</th>\n      <th>1048164</th>\n      <th>1087580</th>\n      <th>1090671</th>\n      <th>1118600</th>\n      <th>1125000</th>\n    </tr>\n  </thead>\n  <tbody>\n    <tr>\n      <th>0</th>\n      <td>0</td>\n      <td>0</td>\n      <td>0</td>\n      <td>0</td>\n      <td>0</td>\n      <td>0</td>\n      <td>0</td>\n      <td>0</td>\n      <td>0</td>\n      <td>0</td>\n      <td>...</td>\n      <td>0</td>\n      <td>0</td>\n      <td>0</td>\n      <td>0</td>\n      <td>0</td>\n      <td>0</td>\n      <td>1</td>\n      <td>0</td>\n      <td>0</td>\n      <td>0</td>\n    </tr>\n    <tr>\n      <th>1</th>\n      <td>0</td>\n      <td>0</td>\n      <td>0</td>\n      <td>0</td>\n      <td>1</td>\n      <td>0</td>\n      <td>0</td>\n      <td>0</td>\n      <td>0</td>\n      <td>0</td>\n      <td>...</td>\n      <td>0</td>\n      <td>0</td>\n      <td>0</td>\n      <td>0</td>\n      <td>0</td>\n      <td>0</td>\n      <td>0</td>\n      <td>0</td>\n      <td>0</td>\n      <td>0</td>\n    </tr>\n    <tr>\n      <th>2</th>\n      <td>0</td>\n      <td>0</td>\n      <td>0</td>\n      <td>0</td>\n      <td>0</td>\n      <td>0</td>\n      <td>0</td>\n      <td>0</td>\n      <td>0</td>\n      <td>0</td>\n      <td>...</td>\n      <td>0</td>\n      <td>0</td>\n      <td>0</td>\n      <td>0</td>\n      <td>0</td>\n      <td>0</td>\n      <td>0</td>\n      <td>0</td>\n      <td>0</td>\n      <td>0</td>\n    </tr>\n    <tr>\n      <th>3</th>\n      <td>0</td>\n      <td>0</td>\n      <td>0</td>\n      <td>0</td>\n      <td>0</td>\n      <td>0</td>\n      <td>0</td>\n      <td>0</td>\n      <td>0</td>\n      <td>0</td>\n      <td>...</td>\n      <td>0</td>\n      <td>0</td>\n      <td>0</td>\n      <td>0</td>\n      <td>0</td>\n      <td>0</td>\n      <td>0</td>\n      <td>0</td>\n      <td>0</td>\n      <td>0</td>\n    </tr>\n    <tr>\n      <th>4</th>\n      <td>0</td>\n      <td>0</td>\n      <td>0</td>\n      <td>0</td>\n      <td>0</td>\n      <td>0</td>\n      <td>0</td>\n      <td>0</td>\n      <td>0</td>\n      <td>0</td>\n      <td>...</td>\n      <td>0</td>\n      <td>0</td>\n      <td>0</td>\n      <td>0</td>\n      <td>0</td>\n      <td>0</td>\n      <td>0</td>\n      <td>0</td>\n      <td>0</td>\n      <td>0</td>\n    </tr>\n    <tr>\n      <th>...</th>\n      <td>...</td>\n      <td>...</td>\n      <td>...</td>\n      <td>...</td>\n      <td>...</td>\n      <td>...</td>\n      <td>...</td>\n      <td>...</td>\n      <td>...</td>\n      <td>...</td>\n      <td>...</td>\n      <td>...</td>\n      <td>...</td>\n      <td>...</td>\n      <td>...</td>\n      <td>...</td>\n      <td>...</td>\n      <td>...</td>\n      <td>...</td>\n      <td>...</td>\n      <td>...</td>\n    </tr>\n    <tr>\n      <th>65</th>\n      <td>0</td>\n      <td>0</td>\n      <td>0</td>\n      <td>0</td>\n      <td>0</td>\n      <td>0</td>\n      <td>0</td>\n      <td>0</td>\n      <td>0</td>\n      <td>0</td>\n      <td>...</td>\n      <td>0</td>\n      <td>0</td>\n      <td>0</td>\n      <td>0</td>\n      <td>0</td>\n      <td>0</td>\n      <td>0</td>\n      <td>0</td>\n      <td>0</td>\n      <td>0</td>\n    </tr>\n    <tr>\n      <th>66</th>\n      <td>0</td>\n      <td>0</td>\n      <td>0</td>\n      <td>0</td>\n      <td>0</td>\n      <td>0</td>\n      <td>0</td>\n      <td>0</td>\n      <td>0</td>\n      <td>0</td>\n      <td>...</td>\n      <td>0</td>\n      <td>0</td>\n      <td>0</td>\n      <td>0</td>\n      <td>0</td>\n      <td>0</td>\n      <td>0</td>\n      <td>0</td>\n      <td>0</td>\n      <td>0</td>\n    </tr>\n    <tr>\n      <th>67</th>\n      <td>0</td>\n      <td>0</td>\n      <td>0</td>\n      <td>0</td>\n      <td>0</td>\n      <td>0</td>\n      <td>0</td>\n      <td>0</td>\n      <td>0</td>\n      <td>0</td>\n      <td>...</td>\n      <td>0</td>\n      <td>1</td>\n      <td>0</td>\n      <td>0</td>\n      <td>0</td>\n      <td>0</td>\n      <td>0</td>\n      <td>0</td>\n      <td>0</td>\n      <td>0</td>\n    </tr>\n    <tr>\n      <th>68</th>\n      <td>0</td>\n      <td>0</td>\n      <td>0</td>\n      <td>0</td>\n      <td>0</td>\n      <td>0</td>\n      <td>0</td>\n      <td>0</td>\n      <td>0</td>\n      <td>1</td>\n      <td>...</td>\n      <td>0</td>\n      <td>0</td>\n      <td>0</td>\n      <td>0</td>\n      <td>0</td>\n      <td>0</td>\n      <td>0</td>\n      <td>0</td>\n      <td>0</td>\n      <td>0</td>\n    </tr>\n    <tr>\n      <th>69</th>\n      <td>0</td>\n      <td>0</td>\n      <td>0</td>\n      <td>0</td>\n      <td>0</td>\n      <td>0</td>\n      <td>0</td>\n      <td>0</td>\n      <td>0</td>\n      <td>0</td>\n      <td>...</td>\n      <td>0</td>\n      <td>0</td>\n      <td>1</td>\n      <td>0</td>\n      <td>0</td>\n      <td>0</td>\n      <td>0</td>\n      <td>0</td>\n      <td>0</td>\n      <td>0</td>\n    </tr>\n  </tbody>\n</table>\n<p>70 rows × 70 columns</p>\n</div>"
          },
          "metadata": {}
        }
      ]
    },
    {
      "cell_type": "code",
      "source": "data2=pd.concat((data1,dummy),axis=1)",
      "metadata": {
        "trusted": true
      },
      "execution_count": 16,
      "outputs": []
    },
    {
      "cell_type": "code",
      "source": "data2=data2.drop(['own'],axis=1)",
      "metadata": {
        "trusted": true
      },
      "execution_count": 17,
      "outputs": []
    },
    {
      "cell_type": "code",
      "source": "data2.head()\n",
      "metadata": {
        "trusted": true
      },
      "execution_count": 18,
      "outputs": [
        {
          "execution_count": 18,
          "output_type": "execute_result",
          "data": {
            "text/plain": "                 hlpi_name  year   hlpi  tot_hhs  own_wm  own_prop  \\\n0           All households  2008  allhh  1560859  574406      69.7   \n1              Beneficiary  2008  benef   185965   39405      38.3   \n2  Income quintile 1 (low)  2008  disq1   312376   48424      61.3   \n3        Income quintile 2  2008  disq2   312333   84171      62.8   \n4        Income quintile 3  2008  disq3   312240  141318      69.7   \n\n   own_wm_prop  prop_hhs   age  size  ...  286886  288779  314154  315121  \\\n0         36.8     100.0  35.9   2.7  ...       0       0       0       0   \n1         21.2      11.9  29.9   2.6  ...       0       0       0       0   \n2         15.5      20.0  40.0   2.3  ...       0       0       0       0   \n3         26.9      20.0  34.7   2.8  ...       0       0       0       0   \n4         45.3      20.0  31.5   3.0  ...       0       0       0       0   \n\n   329269  1048164  1087580  1090671  1118600  1125000  \n0       0        0        1        0        0        0  \n1       0        0        0        0        0        0  \n2       0        0        0        0        0        0  \n3       0        0        0        0        0        0  \n4       0        0        0        0        0        0  \n\n[5 rows x 84 columns]",
            "text/html": "<div>\n<style scoped>\n    .dataframe tbody tr th:only-of-type {\n        vertical-align: middle;\n    }\n\n    .dataframe tbody tr th {\n        vertical-align: top;\n    }\n\n    .dataframe thead th {\n        text-align: right;\n    }\n</style>\n<table border=\"1\" class=\"dataframe\">\n  <thead>\n    <tr style=\"text-align: right;\">\n      <th></th>\n      <th>hlpi_name</th>\n      <th>year</th>\n      <th>hlpi</th>\n      <th>tot_hhs</th>\n      <th>own_wm</th>\n      <th>own_prop</th>\n      <th>own_wm_prop</th>\n      <th>prop_hhs</th>\n      <th>age</th>\n      <th>size</th>\n      <th>...</th>\n      <th>286886</th>\n      <th>288779</th>\n      <th>314154</th>\n      <th>315121</th>\n      <th>329269</th>\n      <th>1048164</th>\n      <th>1087580</th>\n      <th>1090671</th>\n      <th>1118600</th>\n      <th>1125000</th>\n    </tr>\n  </thead>\n  <tbody>\n    <tr>\n      <th>0</th>\n      <td>All households</td>\n      <td>2008</td>\n      <td>allhh</td>\n      <td>1560859</td>\n      <td>574406</td>\n      <td>69.7</td>\n      <td>36.8</td>\n      <td>100.0</td>\n      <td>35.9</td>\n      <td>2.7</td>\n      <td>...</td>\n      <td>0</td>\n      <td>0</td>\n      <td>0</td>\n      <td>0</td>\n      <td>0</td>\n      <td>0</td>\n      <td>1</td>\n      <td>0</td>\n      <td>0</td>\n      <td>0</td>\n    </tr>\n    <tr>\n      <th>1</th>\n      <td>Beneficiary</td>\n      <td>2008</td>\n      <td>benef</td>\n      <td>185965</td>\n      <td>39405</td>\n      <td>38.3</td>\n      <td>21.2</td>\n      <td>11.9</td>\n      <td>29.9</td>\n      <td>2.6</td>\n      <td>...</td>\n      <td>0</td>\n      <td>0</td>\n      <td>0</td>\n      <td>0</td>\n      <td>0</td>\n      <td>0</td>\n      <td>0</td>\n      <td>0</td>\n      <td>0</td>\n      <td>0</td>\n    </tr>\n    <tr>\n      <th>2</th>\n      <td>Income quintile 1 (low)</td>\n      <td>2008</td>\n      <td>disq1</td>\n      <td>312376</td>\n      <td>48424</td>\n      <td>61.3</td>\n      <td>15.5</td>\n      <td>20.0</td>\n      <td>40.0</td>\n      <td>2.3</td>\n      <td>...</td>\n      <td>0</td>\n      <td>0</td>\n      <td>0</td>\n      <td>0</td>\n      <td>0</td>\n      <td>0</td>\n      <td>0</td>\n      <td>0</td>\n      <td>0</td>\n      <td>0</td>\n    </tr>\n    <tr>\n      <th>3</th>\n      <td>Income quintile 2</td>\n      <td>2008</td>\n      <td>disq2</td>\n      <td>312333</td>\n      <td>84171</td>\n      <td>62.8</td>\n      <td>26.9</td>\n      <td>20.0</td>\n      <td>34.7</td>\n      <td>2.8</td>\n      <td>...</td>\n      <td>0</td>\n      <td>0</td>\n      <td>0</td>\n      <td>0</td>\n      <td>0</td>\n      <td>0</td>\n      <td>0</td>\n      <td>0</td>\n      <td>0</td>\n      <td>0</td>\n    </tr>\n    <tr>\n      <th>4</th>\n      <td>Income quintile 3</td>\n      <td>2008</td>\n      <td>disq3</td>\n      <td>312240</td>\n      <td>141318</td>\n      <td>69.7</td>\n      <td>45.3</td>\n      <td>20.0</td>\n      <td>31.5</td>\n      <td>3.0</td>\n      <td>...</td>\n      <td>0</td>\n      <td>0</td>\n      <td>0</td>\n      <td>0</td>\n      <td>0</td>\n      <td>0</td>\n      <td>0</td>\n      <td>0</td>\n      <td>0</td>\n      <td>0</td>\n    </tr>\n  </tbody>\n</table>\n<p>5 rows × 84 columns</p>\n</div>"
          },
          "metadata": {}
        }
      ]
    },
    {
      "cell_type": "code",
      "source": "",
      "metadata": {},
      "execution_count": null,
      "outputs": []
    }
  ]
}